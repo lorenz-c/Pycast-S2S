{
 "cells": [
  {
   "cell_type": "code",
   "execution_count": 3,
   "id": "b625e1f3-2216-45d5-be2a-8c65b74b7518",
   "metadata": {},
   "outputs": [],
   "source": [
    "import argparse\n",
    "import json\n",
    "import logging\n",
    "\n",
    "import dask\n",
    "import numpy as np\n",
    "import xarray as xr\n",
    "\n",
    "from dask.distributed import Client\n",
    "import dask.config\n",
    "import dask.array as da"
   ]
  },
  {
   "cell_type": "code",
   "execution_count": 4,
   "id": "567289a7-ac3f-4f64-8604-eb091ed3b87f",
   "metadata": {},
   "outputs": [],
   "source": [
    "import sys"
   ]
  },
  {
   "cell_type": "code",
   "execution_count": 5,
   "id": "a5214643-3175-4f48-aa24-b9738acb9cd8",
   "metadata": {},
   "outputs": [],
   "source": [
    "sys.path.append('../src')"
   ]
  },
  {
   "cell_type": "code",
   "execution_count": 6,
   "id": "c8a4131e-fc6f-4ad1-8e7c-fffe90f3b6fb",
   "metadata": {},
   "outputs": [],
   "source": [
    "import helper_modules"
   ]
  },
  {
   "cell_type": "code",
   "execution_count": 7,
   "id": "ed13fc84-6c88-4486-8c47-f64a42798a50",
   "metadata": {},
   "outputs": [],
   "source": [
    "%load_ext autoreload\n",
    "%autoreload 2"
   ]
  },
  {
   "cell_type": "code",
   "execution_count": 8,
   "id": "c025fc62-a45a-4659-aabc-e6c7e684c913",
   "metadata": {},
   "outputs": [],
   "source": [
    "with open(\"../src/conf/domain_config.json\", \"r\") as j:\n",
    "    domain_config = json.loads(j.read())"
   ]
  },
  {
   "cell_type": "code",
   "execution_count": 9,
   "id": "787a449e-6156-42ef-871f-60fc00571075",
   "metadata": {},
   "outputs": [],
   "source": [
    "with open(\"../src/conf/attribute_config.json\", \"r\") as j:\n",
    "    attribute_config = json.loads(j.read())"
   ]
  },
  {
   "cell_type": "code",
   "execution_count": 10,
   "id": "3131e335-cb08-474e-80fc-556b65cc9055",
   "metadata": {},
   "outputs": [],
   "source": [
    "with open(\"../src/conf/variable_config.json\", \"r\") as j:\n",
    "    variable_config = json.loads(j.read())"
   ]
  },
  {
   "cell_type": "code",
   "execution_count": 11,
   "id": "8cf334b2-07ab-4544-8b27-6fc20cac8707",
   "metadata": {},
   "outputs": [],
   "source": [
    "domain_config = domain_config['west_africa']"
   ]
  },
  {
   "cell_type": "code",
   "execution_count": 12,
   "id": "9fe39474-ccb3-42ee-865b-9e79bf317b59",
   "metadata": {},
   "outputs": [],
   "source": [
    "variable_config = {\n",
    "    key: value\n",
    "    for key, value in variable_config.items()\n",
    "    if key in domain_config[\"variables\"]\n",
    "}"
   ]
  },
  {
   "cell_type": "code",
   "execution_count": 13,
   "id": "f549150d-366c-4a20-93b6-4d5d039ab8e9",
   "metadata": {},
   "outputs": [],
   "source": [
    "reg_dir_dict, glob_dir_dict = helper_modules.set_and_make_dirs(domain_config)"
   ]
  },
  {
   "cell_type": "code",
   "execution_count": 14,
   "id": "d0636253-c304-4ef9-934d-bed0f7194865",
   "metadata": {},
   "outputs": [],
   "source": [
    "syr_calib = domain_config[\"syr_calib\"]\n",
    "eyr_calib = domain_config[\"eyr_calib\"]"
   ]
  },
  {
   "cell_type": "code",
   "execution_count": 15,
   "id": "cb3b79e1-5d22-48b9-91c3-0e1fece26e07",
   "metadata": {},
   "outputs": [
    {
     "name": "stdout",
     "output_type": "stream",
     "text": [
      "Dask dashboard available at http://172.27.80.110:34792/status\n"
     ]
    },
    {
     "name": "stderr",
     "output_type": "stream",
     "text": [
      "/home/lorenz-c/miniconda3/envs/forecast_bias_correction/lib/python3.10/site-packages/distributed/node.py:182: UserWarning: Port 8787 is already in use.\n",
      "Perhaps you already have a cluster running?\n",
      "Hosting the HTTP server on port 34792 instead\n",
      "  warnings.warn(\n"
     ]
    }
   ],
   "source": [
    "client, cluster = helper_modules.getCluster('fat', 1, 60)\n",
    "        \n",
    "client.get_versions(check=True)\n",
    "client.amm.start()\n",
    "         \n",
    "print(f\"Dask dashboard available at {client.dashboard_link}\")"
   ]
  },
  {
   "cell_type": "code",
   "execution_count": 16,
   "id": "b8d3aa80-8a95-45f1-82bd-6c1ff5401df8",
   "metadata": {},
   "outputs": [],
   "source": [
    "raw_full, pp_full, refrcst_full, ref_full = helper_modules.set_input_files(domain_config, reg_dir_dict, 4, 2016, 'tp')"
   ]
  },
  {
   "cell_type": "code",
   "execution_count": 17,
   "id": "9f5c553e-b780-4693-a101-77f039727c3c",
   "metadata": {},
   "outputs": [],
   "source": [
    "coords = helper_modules.get_coords_from_frcst(raw_full)"
   ]
  },
  {
   "cell_type": "code",
   "execution_count": 18,
   "id": "467fbd04-fb0d-4b91-a1df-d08ac7695af2",
   "metadata": {},
   "outputs": [],
   "source": [
    "global_attributes = helper_modules.update_global_attributes(\n",
    "    attribute_config, domain_config[\"bc_params\"], coords, 'west_africa'\n",
    ")"
   ]
  },
  {
   "cell_type": "code",
   "execution_count": 19,
   "id": "3fb9e48b-d4ea-4e44-955b-1e7b36a6e580",
   "metadata": {},
   "outputs": [],
   "source": [
    "encoding = helper_modules.set_encoding(variable_config, coords)"
   ]
  },
  {
   "cell_type": "code",
   "execution_count": 20,
   "id": "776059fd-64a8-4f2a-899e-f59d112177ae",
   "metadata": {},
   "outputs": [],
   "source": [
    "ds_obs = xr.open_zarr(ref_full, consolidated=False)\n",
    "ds_obs = xr.open_zarr(\n",
    "    ref_full,\n",
    "    chunks={\"time\": len(ds_obs.time), \"lat\": 1, \"lon\": 1},\n",
    "    consolidated=False\n",
    "    )\n",
    "da_obs = ds_obs['tp']\n",
    "#da_obs = da_obs.isel(lat=np.arange(100, 130), lon=np.arange(100, 130))"
   ]
  },
  {
   "cell_type": "code",
   "execution_count": 21,
   "id": "68e66be4-a574-49f7-999f-7d610d863d3d",
   "metadata": {},
   "outputs": [],
   "source": [
    "ds_mdl = xr.open_zarr(refrcst_full, consolidated=False)\n",
    "ds_mdl = xr.open_zarr(\n",
    "    refrcst_full,\n",
    "    chunks={\n",
    "       \"time\": len(ds_mdl.time),\n",
    "       \"ens\": len(ds_mdl.ens),\n",
    "       \"lat\": 1,\n",
    "       \"lon\": 1\n",
    "    },\n",
    "    consolidated=False\n",
    "    )\n",
    "da_mdl = ds_mdl['tp']\n",
    "#da_mdl = da_mdl.isel(lat=np.arange(100, 130), lon=np.arange(100, 130))"
   ]
  },
  {
   "cell_type": "code",
   "execution_count": 22,
   "id": "7bcbe168-7673-43bf-840a-7ce21fb0f2a7",
   "metadata": {
    "tags": []
   },
   "outputs": [],
   "source": [
    "ds_pred = xr.open_dataset(raw_full)\n",
    "ds_pred = xr.open_mfdataset(\n",
    "    raw_full,\n",
    "    chunks={\n",
    "        \"time\": len(ds_pred.time),\n",
    "        \"ens\": len(ds_pred.ens),\n",
    "        \"lat\": 1,\n",
    "        \"lon\": 1\n",
    "     },\n",
    "     parallel=False,\n",
    "     engine=\"netcdf4\",\n",
    ")\n",
    "da_pred = ds_pred['tp']\n",
    "\n",
    "#da_pred = da_pred.isel(lat=np.arange(100, 130), lon=np.arange(100, 130))"
   ]
  },
  {
   "cell_type": "code",
   "execution_count": null,
   "id": "beed9ec5-b309-4ca0-9fca-0437a7648aa5",
   "metadata": {},
   "outputs": [],
   "source": []
  },
  {
   "cell_type": "code",
   "execution_count": 24,
   "id": "831bc94f-5a26-4358-9b59-eaddd868724d",
   "metadata": {},
   "outputs": [],
   "source": [
    "pred_out = da.zeros(shape=(len(da_pred.time), len(da_pred.ens), len(da_pred.lat), len(da_pred.lon)), chunks=(len(da_pred.time), len(da_pred.ens), 1, 1))"
   ]
  },
  {
   "cell_type": "code",
   "execution_count": null,
   "id": "127ed325-4eee-4318-9620-24acfde1772c",
   "metadata": {},
   "outputs": [],
   "source": [
    "import importlib"
   ]
  },
  {
   "cell_type": "code",
   "execution_count": 25,
   "id": "2ba61adc-a4b1-4f07-987b-3d993e8fafc7",
   "metadata": {},
   "outputs": [],
   "source": [
    "import bc_module_v2"
   ]
  },
  {
   "cell_type": "code",
   "execution_count": 26,
   "id": "0e90188a-de40-4110-b835-79ecc0b75b48",
   "metadata": {},
   "outputs": [
    {
     "data": {
      "text/plain": [
       "{'tcp://172.27.80.111:32873': {'status': 'OK'},\n",
       " 'tcp://172.27.80.111:33157': {'status': 'OK'},\n",
       " 'tcp://172.27.80.111:33197': {'status': 'OK'},\n",
       " 'tcp://172.27.80.111:33215': {'status': 'OK'},\n",
       " 'tcp://172.27.80.111:33512': {'status': 'OK'},\n",
       " 'tcp://172.27.80.111:33600': {'status': 'OK'},\n",
       " 'tcp://172.27.80.111:33747': {'status': 'OK'},\n",
       " 'tcp://172.27.80.111:33841': {'status': 'OK'},\n",
       " 'tcp://172.27.80.111:34068': {'status': 'OK'},\n",
       " 'tcp://172.27.80.111:34186': {'status': 'OK'},\n",
       " 'tcp://172.27.80.111:34237': {'status': 'OK'},\n",
       " 'tcp://172.27.80.111:35074': {'status': 'OK'},\n",
       " 'tcp://172.27.80.111:35193': {'status': 'OK'},\n",
       " 'tcp://172.27.80.111:35527': {'status': 'OK'},\n",
       " 'tcp://172.27.80.111:35565': {'status': 'OK'},\n",
       " 'tcp://172.27.80.111:35970': {'status': 'OK'},\n",
       " 'tcp://172.27.80.111:36141': {'status': 'OK'},\n",
       " 'tcp://172.27.80.111:36323': {'status': 'OK'},\n",
       " 'tcp://172.27.80.111:36767': {'status': 'OK'},\n",
       " 'tcp://172.27.80.111:37056': {'status': 'OK'},\n",
       " 'tcp://172.27.80.111:37095': {'status': 'OK'},\n",
       " 'tcp://172.27.80.111:37324': {'status': 'OK'},\n",
       " 'tcp://172.27.80.111:37349': {'status': 'OK'},\n",
       " 'tcp://172.27.80.111:37429': {'status': 'OK'},\n",
       " 'tcp://172.27.80.111:37644': {'status': 'OK'},\n",
       " 'tcp://172.27.80.111:37829': {'status': 'OK'},\n",
       " 'tcp://172.27.80.111:38152': {'status': 'OK'},\n",
       " 'tcp://172.27.80.111:38283': {'status': 'OK'},\n",
       " 'tcp://172.27.80.111:38551': {'status': 'OK'},\n",
       " 'tcp://172.27.80.111:38703': {'status': 'OK'},\n",
       " 'tcp://172.27.80.111:38803': {'status': 'OK'},\n",
       " 'tcp://172.27.80.111:39021': {'status': 'OK'},\n",
       " 'tcp://172.27.80.111:39216': {'status': 'OK'},\n",
       " 'tcp://172.27.80.111:39559': {'status': 'OK'},\n",
       " 'tcp://172.27.80.111:39932': {'status': 'OK'},\n",
       " 'tcp://172.27.80.111:40064': {'status': 'OK'},\n",
       " 'tcp://172.27.80.111:40070': {'status': 'OK'},\n",
       " 'tcp://172.27.80.111:41153': {'status': 'OK'},\n",
       " 'tcp://172.27.80.111:41209': {'status': 'OK'},\n",
       " 'tcp://172.27.80.111:41933': {'status': 'OK'},\n",
       " 'tcp://172.27.80.111:41962': {'status': 'OK'},\n",
       " 'tcp://172.27.80.111:42076': {'status': 'OK'},\n",
       " 'tcp://172.27.80.111:42083': {'status': 'OK'},\n",
       " 'tcp://172.27.80.111:42234': {'status': 'OK'},\n",
       " 'tcp://172.27.80.111:42605': {'status': 'OK'},\n",
       " 'tcp://172.27.80.111:42685': {'status': 'OK'},\n",
       " 'tcp://172.27.80.111:43137': {'status': 'OK'},\n",
       " 'tcp://172.27.80.111:43321': {'status': 'OK'},\n",
       " 'tcp://172.27.80.111:43449': {'status': 'OK'},\n",
       " 'tcp://172.27.80.111:43582': {'status': 'OK'},\n",
       " 'tcp://172.27.80.111:43650': {'status': 'OK'},\n",
       " 'tcp://172.27.80.111:44216': {'status': 'OK'},\n",
       " 'tcp://172.27.80.111:44416': {'status': 'OK'},\n",
       " 'tcp://172.27.80.111:44549': {'status': 'OK'},\n",
       " 'tcp://172.27.80.111:44832': {'status': 'OK'},\n",
       " 'tcp://172.27.80.111:44930': {'status': 'OK'},\n",
       " 'tcp://172.27.80.111:45448': {'status': 'OK'},\n",
       " 'tcp://172.27.80.111:45904': {'status': 'OK'},\n",
       " 'tcp://172.27.80.111:46606': {'status': 'OK'},\n",
       " 'tcp://172.27.80.111:46712': {'status': 'OK'}}"
      ]
     },
     "execution_count": 26,
     "metadata": {},
     "output_type": "execute_result"
    }
   ],
   "source": [
    "client.upload_file(\"bc_module_v2.py\")"
   ]
  },
  {
   "cell_type": "code",
   "execution_count": null,
   "id": "5319b7df-9544-4649-bf98-b39cf27dc2f0",
   "metadata": {},
   "outputs": [],
   "source": [
    "da_obs.isel(lon=0, lat=0)"
   ]
  },
  {
   "cell_type": "code",
   "execution_count": 28,
   "id": "4e6f061c-e5c4-4603-b011-ba1d69af06e6",
   "metadata": {},
   "outputs": [
    {
     "name": "stdout",
     "output_type": "stream",
     "text": [
      "0 0\n",
      "0 1\n",
      "0 2\n",
      "0 3\n",
      "0 4\n",
      "0 5\n",
      "0 6\n",
      "0 7\n",
      "0 8\n",
      "0 9\n",
      "0 10\n",
      "0 11\n",
      "0 12\n",
      "0 13\n",
      "0 14\n",
      "0 15\n",
      "0 16\n",
      "0 17\n",
      "0 18\n",
      "0 19\n"
     ]
    },
    {
     "ename": "KeyboardInterrupt",
     "evalue": "",
     "output_type": "error",
     "traceback": [
      "\u001b[0;31m---------------------------------------------------------------------------\u001b[0m",
      "\u001b[0;31mKeyError\u001b[0m                                  Traceback (most recent call last)",
      "File \u001b[0;32m~/miniconda3/envs/forecast_bias_correction/lib/python3.10/site-packages/dask/highlevelgraph.py:725\u001b[0m, in \u001b[0;36mHighLevelGraph.__getitem__\u001b[0;34m(self, key)\u001b[0m\n\u001b[1;32m    724\u001b[0m \u001b[38;5;28;01mtry\u001b[39;00m:\n\u001b[0;32m--> 725\u001b[0m     \u001b[38;5;28;01mreturn\u001b[39;00m \u001b[38;5;28;43mself\u001b[39;49m\u001b[38;5;241;43m.\u001b[39;49m\u001b[43mlayers\u001b[49m\u001b[43m[\u001b[49m\u001b[43mkey\u001b[49m\u001b[43m]\u001b[49m[key]\n\u001b[1;32m    726\u001b[0m \u001b[38;5;28;01mexcept\u001b[39;00m \u001b[38;5;167;01mKeyError\u001b[39;00m:\n",
      "\u001b[0;31mKeyError\u001b[0m: ('open_dataset-8ec21a6fe6bdc7ddbeea3567f5f3b25etp-52ad0b816998a3cba5221b565db592e3', 0, 0, 102, 244)",
      "\nDuring handling of the above exception, another exception occurred:\n",
      "\u001b[0;31mKeyboardInterrupt\u001b[0m                         Traceback (most recent call last)",
      "Cell \u001b[0;32mIn [28], line 4\u001b[0m\n\u001b[1;32m      2\u001b[0m \u001b[38;5;28;01mfor\u001b[39;00m j \u001b[38;5;129;01min\u001b[39;00m \u001b[38;5;28mrange\u001b[39m(\u001b[38;5;241m0\u001b[39m, \u001b[38;5;28mlen\u001b[39m(da_pred\u001b[38;5;241m.\u001b[39mlon)):\n\u001b[1;32m      3\u001b[0m     out \u001b[38;5;241m=\u001b[39m bc_module_v2\u001b[38;5;241m.\u001b[39mbc_module(da_pred, da_obs, da_mdl, i, j, \u001b[38;5;124m'\u001b[39m\u001b[38;5;124mfluff\u001b[39m\u001b[38;5;124m'\u001b[39m, domain_config, \u001b[38;5;28;01mTrue\u001b[39;00m)\n\u001b[0;32m----> 4\u001b[0m     pred_out[:, :, i, j] \u001b[38;5;241m=\u001b[39m da\u001b[38;5;241m.\u001b[39mfrom_delayed(out, shape\u001b[38;5;241m=\u001b[39m[\u001b[38;5;28mlen\u001b[39m(da_pred\u001b[38;5;241m.\u001b[39mtime), \u001b[38;5;28mlen\u001b[39m(da_pred\u001b[38;5;241m.\u001b[39mens)], dtype\u001b[38;5;241m=\u001b[39m\u001b[38;5;28mfloat\u001b[39m)\n\u001b[1;32m      5\u001b[0m     \u001b[38;5;28mprint\u001b[39m(i, j)\n",
      "File \u001b[0;32m~/miniconda3/envs/forecast_bias_correction/lib/python3.10/site-packages/dask/array/core.py:1913\u001b[0m, in \u001b[0;36mArray.__setitem__\u001b[0;34m(self, key, value)\u001b[0m\n\u001b[1;32m   1910\u001b[0m value \u001b[38;5;241m=\u001b[39m asanyarray(value)\n\u001b[1;32m   1912\u001b[0m out \u001b[38;5;241m=\u001b[39m \u001b[38;5;124m\"\u001b[39m\u001b[38;5;124msetitem-\u001b[39m\u001b[38;5;124m\"\u001b[39m \u001b[38;5;241m+\u001b[39m tokenize(\u001b[38;5;28mself\u001b[39m, key, value)\n\u001b[0;32m-> 1913\u001b[0m dsk \u001b[38;5;241m=\u001b[39m \u001b[43msetitem_array\u001b[49m\u001b[43m(\u001b[49m\u001b[43mout\u001b[49m\u001b[43m,\u001b[49m\u001b[43m \u001b[49m\u001b[38;5;28;43mself\u001b[39;49m\u001b[43m,\u001b[49m\u001b[43m \u001b[49m\u001b[43mkey\u001b[49m\u001b[43m,\u001b[49m\u001b[43m \u001b[49m\u001b[43mvalue\u001b[49m\u001b[43m)\u001b[49m\n\u001b[1;32m   1915\u001b[0m meta \u001b[38;5;241m=\u001b[39m meta_from_array(\u001b[38;5;28mself\u001b[39m\u001b[38;5;241m.\u001b[39m_meta)\n\u001b[1;32m   1916\u001b[0m \u001b[38;5;28;01mif\u001b[39;00m np\u001b[38;5;241m.\u001b[39misscalar(meta):\n",
      "File \u001b[0;32m~/miniconda3/envs/forecast_bias_correction/lib/python3.10/site-packages/dask/array/slicing.py:2064\u001b[0m, in \u001b[0;36msetitem_array\u001b[0;34m(out_name, array, indices, value)\u001b[0m\n\u001b[1;32m   2059\u001b[0m v_key \u001b[38;5;241m=\u001b[39m \u001b[38;5;28mnext\u001b[39m(flatten(v\u001b[38;5;241m.\u001b[39m__dask_keys__()))\n\u001b[1;32m   2061\u001b[0m \u001b[38;5;66;03m# Insert into the output dask dictionary the dask of the part\u001b[39;00m\n\u001b[1;32m   2062\u001b[0m \u001b[38;5;66;03m# of assignment value for this block (not minding when we\u001b[39;00m\n\u001b[1;32m   2063\u001b[0m \u001b[38;5;66;03m# overwrite any existing keys as the values will be the same).\u001b[39;00m\n\u001b[0;32m-> 2064\u001b[0m dsk \u001b[38;5;241m=\u001b[39m merge(\u001b[38;5;28;43mdict\u001b[39;49m\u001b[43m(\u001b[49m\u001b[43mv\u001b[49m\u001b[38;5;241;43m.\u001b[39;49m\u001b[43mdask\u001b[49m\u001b[43m)\u001b[49m, dsk)\n\u001b[1;32m   2066\u001b[0m \u001b[38;5;66;03m# Define the assignment function for this block.\u001b[39;00m\n\u001b[1;32m   2067\u001b[0m dsk[out_key] \u001b[38;5;241m=\u001b[39m (setitem, in_key, v_key, block_indices)\n",
      "File \u001b[0;32m~/miniconda3/envs/forecast_bias_correction/lib/python3.10/site-packages/dask/highlevelgraph.py:725\u001b[0m, in \u001b[0;36mHighLevelGraph.__getitem__\u001b[0;34m(self, key)\u001b[0m\n\u001b[1;32m    720\u001b[0m \u001b[38;5;28;01mdef\u001b[39;00m \u001b[38;5;21m__getitem__\u001b[39m(\u001b[38;5;28mself\u001b[39m, key):\n\u001b[1;32m    721\u001b[0m     \u001b[38;5;66;03m# Attempt O(1) direct access first, under the assumption that layer names match\u001b[39;00m\n\u001b[1;32m    722\u001b[0m     \u001b[38;5;66;03m# either the keys (Scalar, Item, Delayed) or the first element of the key tuples\u001b[39;00m\n\u001b[1;32m    723\u001b[0m     \u001b[38;5;66;03m# (Array, Bag, DataFrame, Series). This assumption is not always true.\u001b[39;00m\n\u001b[1;32m    724\u001b[0m     \u001b[38;5;28;01mtry\u001b[39;00m:\n\u001b[0;32m--> 725\u001b[0m         \u001b[38;5;28;01mreturn\u001b[39;00m \u001b[38;5;28;43mself\u001b[39;49m\u001b[38;5;241;43m.\u001b[39;49m\u001b[43mlayers\u001b[49m\u001b[43m[\u001b[49m\u001b[43mkey\u001b[49m\u001b[43m]\u001b[49m[key]\n\u001b[1;32m    726\u001b[0m     \u001b[38;5;28;01mexcept\u001b[39;00m \u001b[38;5;167;01mKeyError\u001b[39;00m:\n\u001b[1;32m    727\u001b[0m         \u001b[38;5;28;01mpass\u001b[39;00m\n",
      "\u001b[0;31mKeyboardInterrupt\u001b[0m: "
     ]
    }
   ],
   "source": [
    "for i in range(0, len(da_pred.lat)):\n",
    "    for j in range(0, len(da_pred.lon)):\n",
    "        out = bc_module_v2.bc_module(da_pred, da_obs, da_mdl, i, j, 'fluff', domain_config, True)\n",
    "        pred_out[:, :, i, j] = da.from_delayed(out, shape=[len(da_pred.time), len(da_pred.ens)], dtype=float)\n",
    "        print(i, j)"
   ]
  },
  {
   "cell_type": "code",
   "execution_count": null,
   "id": "4b8ba369-6cb8-4386-b9e9-7368a5a8fc72",
   "metadata": {},
   "outputs": [],
   "source": [
    "pred_out.persist()"
   ]
  },
  {
   "cell_type": "code",
   "execution_count": null,
   "id": "51609f14-37d5-41e0-8992-8c09a5e48ed2",
   "metadata": {},
   "outputs": [],
   "source": [
    "da_out = xr.Dataset(\n",
    "            data_vars=dict(tp=([\"time\", \"ens\", \"lat\", \"lon\"], pred_out)),       \n",
    "            coords=dict(\n",
    "                time=da_pred.time,\n",
    "                ens=da_pred.ens,\n",
    "                lon=da_pred.lon,\n",
    "                lat=da_pred.lat\n",
    "            ),\n",
    "            attrs=dict(\n",
    "            description=\"This is a small stupid test...\",\n",
    "            nits=\"And were going to kick some ass...\"),\n",
    "    )"
   ]
  },
  {
   "cell_type": "code",
   "execution_count": null,
   "id": "e08ca1d4-ebd7-4ac4-a60b-bc4483fc3920",
   "metadata": {},
   "outputs": [],
   "source": [
    "da_out.to_zarr('/bg/data/NCZarr/bcsd_test.zarr')"
   ]
  },
  {
   "cell_type": "code",
   "execution_count": null,
   "id": "3d815114-040f-4c25-aac2-3b03681df3cf",
   "metadata": {},
   "outputs": [],
   "source": []
  }
 ],
 "metadata": {
  "kernelspec": {
   "display_name": "forecast_bias_correction",
   "language": "python",
   "name": "forecast_bias_correction"
  },
  "language_info": {
   "codemirror_mode": {
    "name": "ipython",
    "version": 3
   },
   "file_extension": ".py",
   "mimetype": "text/x-python",
   "name": "python",
   "nbconvert_exporter": "python",
   "pygments_lexer": "ipython3",
   "version": "3.10.5"
  }
 },
 "nbformat": 4,
 "nbformat_minor": 5
}
