{
 "cells": [
  {
   "cell_type": "code",
   "execution_count": 6,
   "id": "b4dc6a9c-556b-47eb-9bf5-c46315ad2599",
   "metadata": {},
   "outputs": [],
   "source": [
    "import argparse\n",
    "import json\n",
    "import logging\n",
    "\n",
    "import dask\n",
    "import numpy as np\n",
    "import xarray as xr\n",
    "\n",
    "from dask.distributed import Client\n",
    "import dask.config"
   ]
  },
  {
   "cell_type": "code",
   "execution_count": 7,
   "id": "f2271a13-a398-4c92-8453-e45fdec303dc",
   "metadata": {},
   "outputs": [
    {
     "data": {
      "text/plain": [
       "<dask.config.set at 0x7f57d93efd60>"
      ]
     },
     "execution_count": 7,
     "metadata": {},
     "output_type": "execute_result"
    }
   ],
   "source": [
    "dask.config.set(\n",
    "    {'distributed.worker.memory.target':False,\n",
    "     'distributed.worker.memory.spill':False,\n",
    "     'distributed.worker.memory.pause':False,\n",
    "     'distributed.worker.memory.terminate':False,}\n",
    ")"
   ]
  },
  {
   "cell_type": "code",
   "execution_count": 8,
   "id": "ad0fc495-918d-4788-92f8-4fcf77f1f1fb",
   "metadata": {},
   "outputs": [],
   "source": [
    "import sys"
   ]
  },
  {
   "cell_type": "code",
   "execution_count": 9,
   "id": "48ff8ed8-4847-4505-82f0-299797a993dd",
   "metadata": {},
   "outputs": [],
   "source": [
    "sys.path.append('../src')"
   ]
  },
  {
   "cell_type": "code",
   "execution_count": 10,
   "id": "f46dec5c-1dcf-4b0e-8258-f797cc0e6ef0",
   "metadata": {},
   "outputs": [],
   "source": [
    "from bc_module_v2 import bc_module\n",
    "import helper_modules\n",
    "\n",
    "import delayed_module"
   ]
  },
  {
   "cell_type": "code",
   "execution_count": 11,
   "id": "c1434ce7-0b60-4588-83b4-16952a1334d2",
   "metadata": {},
   "outputs": [],
   "source": [
    "with open(\"../src/conf/domain_config.json\", \"r\") as j:\n",
    "    domain_config = json.loads(j.read())"
   ]
  },
  {
   "cell_type": "code",
   "execution_count": 12,
   "id": "2bb74332-db7d-4f88-8d79-cf15a6a54e21",
   "metadata": {},
   "outputs": [],
   "source": [
    "with open(\"../src/conf/attribute_config.json\", \"r\") as j:\n",
    "    attribute_config = json.loads(j.read())"
   ]
  },
  {
   "cell_type": "code",
   "execution_count": 13,
   "id": "7b025aa5-1cad-4ab5-bed8-5e3f0ff740ae",
   "metadata": {},
   "outputs": [],
   "source": [
    "with open(\"../src/conf/variable_config.json\", \"r\") as j:\n",
    "    variable_config = json.loads(j.read())"
   ]
  },
  {
   "cell_type": "code",
   "execution_count": 14,
   "id": "46c64646-e699-48e2-9429-f4212898525f",
   "metadata": {},
   "outputs": [],
   "source": [
    "domain_config = domain_config['west_africa']"
   ]
  },
  {
   "cell_type": "code",
   "execution_count": 15,
   "id": "f991b2cf-2fbe-448b-a60f-8225294d87c7",
   "metadata": {},
   "outputs": [],
   "source": [
    "variable_config = {\n",
    "    key: value\n",
    "    for key, value in variable_config.items()\n",
    "    if key in domain_config[\"variables\"]\n",
    "}"
   ]
  },
  {
   "cell_type": "code",
   "execution_count": 16,
   "id": "085132e9-f36a-4bca-9af0-9e726ea6daac",
   "metadata": {},
   "outputs": [],
   "source": [
    "reg_dir_dict, glob_dir_dict = helper_modules.set_and_make_dirs(domain_config)"
   ]
  },
  {
   "cell_type": "code",
   "execution_count": 17,
   "id": "317f6ed2-48f1-4e54-b32c-a96bc0275573",
   "metadata": {},
   "outputs": [],
   "source": [
    "syr_calib = domain_config[\"syr_calib\"]\n",
    "eyr_calib = domain_config[\"eyr_calib\"]"
   ]
  },
  {
   "cell_type": "code",
   "execution_count": 18,
   "id": "b2cabf64-678d-432b-8122-3f8f3b1b954a",
   "metadata": {},
   "outputs": [
    {
     "name": "stderr",
     "output_type": "stream",
     "text": [
      "/home/lorenz-c/miniconda3/envs/forecast_bias_correction/lib/python3.10/site-packages/distributed/node.py:179: UserWarning: Port 8787 is already in use.\n",
      "Perhaps you already have a cluster running?\n",
      "Hosting the HTTP server on port 39561 instead\n",
      "  warnings.warn(\n"
     ]
    },
    {
     "name": "stdout",
     "output_type": "stream",
     "text": [
      "Dask dashboard available at http://172.27.80.110:39561/status\n"
     ]
    }
   ],
   "source": [
    "client, cluster = helper_modules.getCluster('haswell', 2, 40)\n",
    "        \n",
    "client.get_versions(check=True)\n",
    "client.amm.start()\n",
    "         \n",
    "print(f\"Dask dashboard available at {client.dashboard_link}\")"
   ]
  },
  {
   "cell_type": "code",
   "execution_count": null,
   "id": "d47b858e-c711-4acc-916c-61523965b58a",
   "metadata": {},
   "outputs": [],
   "source": [
    "client.close()\n",
    "cluster.close()"
   ]
  },
  {
   "cell_type": "code",
   "execution_count": null,
   "id": "3e3a177f-2275-49f0-abbe-d48b194a5137",
   "metadata": {},
   "outputs": [],
   "source": []
  },
  {
   "cell_type": "code",
   "execution_count": 19,
   "id": "eaaae189-e900-48a4-95f3-d60c4bf4741c",
   "metadata": {},
   "outputs": [],
   "source": [
    "raw_full, pp_full, refrcst_full, ref_full = helper_modules.set_input_files(domain_config, reg_dir_dict, 4, 2016, 'tp')"
   ]
  },
  {
   "cell_type": "code",
   "execution_count": 20,
   "id": "9c50c1cd-a81e-4759-9b4b-8b029afab810",
   "metadata": {},
   "outputs": [],
   "source": [
    "coords = helper_modules.get_coords_from_frcst(raw_full)"
   ]
  },
  {
   "cell_type": "code",
   "execution_count": 21,
   "id": "15a4f080-6f83-487d-a571-72274a07224a",
   "metadata": {},
   "outputs": [],
   "source": [
    "global_attributes = helper_modules.update_global_attributes(\n",
    "    attribute_config, domain_config[\"bc_params\"], coords, 'west_africa'\n",
    ")"
   ]
  },
  {
   "cell_type": "code",
   "execution_count": 22,
   "id": "21bc7c2d-478f-4dd0-a18f-038c3cea5a5e",
   "metadata": {},
   "outputs": [],
   "source": [
    "encoding = helper_modules.set_encoding(variable_config, coords)"
   ]
  },
  {
   "cell_type": "code",
   "execution_count": 23,
   "id": "f55b10fa-ea9a-4ad3-b3e1-fcefdc944510",
   "metadata": {},
   "outputs": [],
   "source": [
    "ds = helper_modules.create_4d_netcdf(\n",
    "    pp_full,\n",
    "    global_attributes,\n",
    "    domain_config,\n",
    "    variable_config,\n",
    "    coords,\n",
    "    'tp',\n",
    ")"
   ]
  },
  {
   "cell_type": "code",
   "execution_count": 24,
   "id": "f90154e5-7d66-45c2-985f-88bb560a5bd3",
   "metadata": {},
   "outputs": [],
   "source": [
    "ds_obs = xr.open_zarr(ref_full, consolidated=False)\n",
    "ds_obs = xr.open_zarr(\n",
    "    ref_full,\n",
    "    chunks={\"time\": len(ds_obs.time), \"lat\": 'auto', \"lon\": 'auto'},\n",
    "    consolidated=False\n",
    "    )\n",
    "da_obs = ds_obs['tp']"
   ]
  },
  {
   "cell_type": "code",
   "execution_count": 25,
   "id": "cdbd7d87-bf44-4e22-8691-2d3a5b03cfa6",
   "metadata": {},
   "outputs": [],
   "source": [
    "ds_mdl = xr.open_zarr(refrcst_full, consolidated=False)\n",
    "ds_mdl = xr.open_zarr(\n",
    "    refrcst_full,\n",
    "    chunks={\n",
    "       \"time\": len(ds_mdl.time),\n",
    "       \"ens\": len(ds_mdl.ens),\n",
    "       \"lat\": 'auto',\n",
    "       \"lon\": 'auto'\n",
    "    },\n",
    "    consolidated=False\n",
    "    )\n",
    "da_mdl = ds_mdl['tp']"
   ]
  },
  {
   "cell_type": "code",
   "execution_count": 26,
   "id": "0c9f47d4-6917-4b33-ba55-9ff184a07635",
   "metadata": {},
   "outputs": [],
   "source": [
    "ds_pred = xr.open_dataset(raw_full)\n",
    "ds_pred = xr.open_mfdataset(\n",
    "    raw_full,\n",
    "    chunks={\n",
    "        \"time\": 1,\n",
    "        \"ens\": len(ds_pred.ens),\n",
    "        \"lat\": 'auto',\n",
    "        \"lon\": 'auto',\n",
    "     },\n",
    "     parallel=True,\n",
    "     engine=\"netcdf4\",\n",
    ")\n",
    "da_pred = ds_pred['tp'].persist()"
   ]
  },
  {
   "cell_type": "code",
   "execution_count": 27,
   "id": "ad7057c7-1875-48ec-943d-bfaeef04c771",
   "metadata": {},
   "outputs": [],
   "source": [
    "da_temp = xr.DataArray(\n",
    "    None,\n",
    "    dims=[\"time\", \"lat\", \"lon\", \"ens\"],\n",
    "    coords={\n",
    "         \"time\": (\n",
    "             \"time\",\n",
    "             coords[\"time\"],\n",
    "             {\"standard_name\": \"time\", \"long_name\": \"time\"},\n",
    "          ),\n",
    "           \"ens\": (\n",
    "              \"ens\",\n",
    "                            coords[\"ens\"],\n",
    "                            {\n",
    "                                \"standard_name\": \"realization\",\n",
    "                                \"long_name\": \"ensemble_member\",\n",
    "                            },\n",
    "                        ),\n",
    "                        \"lat\": (\n",
    "                            \"lat\",\n",
    "                            coords[\"lat\"],\n",
    "                            {\n",
    "                                \"standard_name\": \"latitude\",\n",
    "                                \"long_name\": \"latitude\",\n",
    "                                \"units\": \"degrees_north\",\n",
    "                            },\n",
    "                        ),\n",
    "                        \"lon\": (\n",
    "                            \"lon\",\n",
    "                            coords[\"lon\"],\n",
    "                            {\n",
    "                                \"standard_name\": \"longitude\",\n",
    "                                \"long_name\": \"longitude\",\n",
    "                                \"units\": \"degrees_east\",\n",
    "                            },\n",
    "                        ),\n",
    "                    },\n",
    "                ).persist()"
   ]
  },
  {
   "cell_type": "code",
   "execution_count": 28,
   "id": "a57b173b-1b8d-4041-a517-339daf985f0b",
   "metadata": {},
   "outputs": [],
   "source": [
    "timestep = 0"
   ]
  },
  {
   "cell_type": "code",
   "execution_count": 29,
   "id": "ad3020a8-6bd6-400e-9772-e28a2397ce38",
   "metadata": {},
   "outputs": [],
   "source": [
    "intersection_day_obs, intersection_day_mdl = delayed_module.get_intersect_days(timestep, domain_config, da_obs, da_mdl, da_pred)"
   ]
  },
  {
   "cell_type": "code",
   "execution_count": null,
   "id": "ec0c7cd0-1d19-403f-bca0-19fe240053cf",
   "metadata": {},
   "outputs": [],
   "source": [
    "%%time\n",
    "with dask.config.set(**{'array.slicing.split_large_chunks': False}):\n",
    "    da_mdl_sub = da_mdl.where(da_mdl['time'] == act_dates, drop=True).persist()"
   ]
  },
  {
   "cell_type": "code",
   "execution_count": 46,
   "id": "892c51aa-deb4-47fe-8d0d-f66b130e5566",
   "metadata": {},
   "outputs": [
    {
     "name": "stdout",
     "output_type": "stream",
     "text": [
      "CPU times: user 56.2 ms, sys: 17.5 ms, total: 73.7 ms\n",
      "Wall time: 68.9 ms\n"
     ]
    }
   ],
   "source": [
    "%%time\n",
    "da_obs_sub = da_obs.loc[dict(time=intersection_day_obs)]\n",
    "\n",
    "with dask.config.set(**{'array.slicing.split_large_chunks': False}):\n",
    "    da_mdl_sub = da_mdl.loc[dict(time=intersection_day_mdl)]\n",
    "    \n",
    "da_mdl_sub = da_mdl_sub.stack(ens_time=(\"ens\", \"time\"), create_index=True)\n",
    "da_mdl_sub = da_mdl_sub.drop(\"time\")\n",
    "\n",
    "da_pred_sub = da_pred.isel(time=timestep)"
   ]
  },
  {
   "cell_type": "code",
   "execution_count": null,
   "id": "251c0f6e-9639-4db1-a0ac-f804f8fd4bc6",
   "metadata": {},
   "outputs": [],
   "source": [
    "da_mdl_sub"
   ]
  },
  {
   "cell_type": "code",
   "execution_count": null,
   "id": "943bd70a-be20-4a9d-b3f5-ce3717c8e6e5",
   "metadata": {},
   "outputs": [],
   "source": []
  },
  {
   "cell_type": "code",
   "execution_count": 47,
   "id": "22b431e3-0f51-46ac-8fe6-62b5a6dfc717",
   "metadata": {},
   "outputs": [
    {
     "ename": "KilledWorker",
     "evalue": "(\"('rechunk-split-rechunk-merge-1cf032253a7bdab42cb251f63812df5e', 2, 4, 0)\", <WorkerState 'tcp://172.27.80.131:36125', name: SLURMCluster-1-21, status: closed, memory: 0, processing: 94>)",
     "output_type": "error",
     "traceback": [
      "\u001b[0;31m---------------------------------------------------------------------------\u001b[0m",
      "\u001b[0;31mKilledWorker\u001b[0m                              Traceback (most recent call last)",
      "File \u001b[0;32m<timed exec>:1\u001b[0m\n",
      "File \u001b[0;32m~/miniconda3/envs/forecast_bias_correction/lib/python3.10/site-packages/xarray/core/dataarray.py:789\u001b[0m, in \u001b[0;36mDataArray.__setitem__\u001b[0;34m(self, key, value)\u001b[0m\n\u001b[1;32m    784\u001b[0m \u001b[38;5;66;03m# DataArray key -> Variable key\u001b[39;00m\n\u001b[1;32m    785\u001b[0m key \u001b[38;5;241m=\u001b[39m {\n\u001b[1;32m    786\u001b[0m     k: v\u001b[38;5;241m.\u001b[39mvariable \u001b[38;5;28;01mif\u001b[39;00m \u001b[38;5;28misinstance\u001b[39m(v, DataArray) \u001b[38;5;28;01melse\u001b[39;00m v\n\u001b[1;32m    787\u001b[0m     \u001b[38;5;28;01mfor\u001b[39;00m k, v \u001b[38;5;129;01min\u001b[39;00m \u001b[38;5;28mself\u001b[39m\u001b[38;5;241m.\u001b[39m_item_key_to_dict(key)\u001b[38;5;241m.\u001b[39mitems()\n\u001b[1;32m    788\u001b[0m }\n\u001b[0;32m--> 789\u001b[0m \u001b[38;5;28;43mself\u001b[39;49m\u001b[38;5;241;43m.\u001b[39;49m\u001b[43mvariable\u001b[49m\u001b[43m[\u001b[49m\u001b[43mkey\u001b[49m\u001b[43m]\u001b[49m \u001b[38;5;241m=\u001b[39m value\n",
      "File \u001b[0;32m~/miniconda3/envs/forecast_bias_correction/lib/python3.10/site-packages/xarray/core/variable.py:863\u001b[0m, in \u001b[0;36mVariable.__setitem__\u001b[0;34m(self, key, value)\u001b[0m\n\u001b[1;32m    860\u001b[0m     value \u001b[38;5;241m=\u001b[39m np\u001b[38;5;241m.\u001b[39mmoveaxis(value, new_order, \u001b[38;5;28mrange\u001b[39m(\u001b[38;5;28mlen\u001b[39m(new_order)))\n\u001b[1;32m    862\u001b[0m indexable \u001b[38;5;241m=\u001b[39m as_indexable(\u001b[38;5;28mself\u001b[39m\u001b[38;5;241m.\u001b[39m_data)\n\u001b[0;32m--> 863\u001b[0m \u001b[43mindexable\u001b[49m\u001b[43m[\u001b[49m\u001b[43mindex_tuple\u001b[49m\u001b[43m]\u001b[49m \u001b[38;5;241m=\u001b[39m value\n",
      "File \u001b[0;32m~/miniconda3/envs/forecast_bias_correction/lib/python3.10/site-packages/xarray/core/indexing.py:1269\u001b[0m, in \u001b[0;36mNumpyIndexingAdapter.__setitem__\u001b[0;34m(self, key, value)\u001b[0m\n\u001b[1;32m   1267\u001b[0m array, key \u001b[38;5;241m=\u001b[39m \u001b[38;5;28mself\u001b[39m\u001b[38;5;241m.\u001b[39m_indexing_array_and_key(key)\n\u001b[1;32m   1268\u001b[0m \u001b[38;5;28;01mtry\u001b[39;00m:\n\u001b[0;32m-> 1269\u001b[0m     \u001b[43marray\u001b[49m\u001b[43m[\u001b[49m\u001b[43mkey\u001b[49m\u001b[43m]\u001b[49m \u001b[38;5;241m=\u001b[39m value\n\u001b[1;32m   1270\u001b[0m \u001b[38;5;28;01mexcept\u001b[39;00m \u001b[38;5;167;01mValueError\u001b[39;00m:\n\u001b[1;32m   1271\u001b[0m     \u001b[38;5;66;03m# More informative exception if read-only view\u001b[39;00m\n\u001b[1;32m   1272\u001b[0m     \u001b[38;5;28;01mif\u001b[39;00m \u001b[38;5;129;01mnot\u001b[39;00m array\u001b[38;5;241m.\u001b[39mflags\u001b[38;5;241m.\u001b[39mwriteable \u001b[38;5;129;01mand\u001b[39;00m \u001b[38;5;129;01mnot\u001b[39;00m array\u001b[38;5;241m.\u001b[39mflags\u001b[38;5;241m.\u001b[39mowndata:\n",
      "File \u001b[0;32m~/miniconda3/envs/forecast_bias_correction/lib/python3.10/site-packages/dask/array/core.py:1689\u001b[0m, in \u001b[0;36mArray.__array__\u001b[0;34m(self, dtype, **kwargs)\u001b[0m\n\u001b[1;32m   1688\u001b[0m \u001b[38;5;28;01mdef\u001b[39;00m \u001b[38;5;21m__array__\u001b[39m(\u001b[38;5;28mself\u001b[39m, dtype\u001b[38;5;241m=\u001b[39m\u001b[38;5;28;01mNone\u001b[39;00m, \u001b[38;5;241m*\u001b[39m\u001b[38;5;241m*\u001b[39mkwargs):\n\u001b[0;32m-> 1689\u001b[0m     x \u001b[38;5;241m=\u001b[39m \u001b[38;5;28;43mself\u001b[39;49m\u001b[38;5;241;43m.\u001b[39;49m\u001b[43mcompute\u001b[49m\u001b[43m(\u001b[49m\u001b[43m)\u001b[49m\n\u001b[1;32m   1690\u001b[0m     \u001b[38;5;28;01mif\u001b[39;00m dtype \u001b[38;5;129;01mand\u001b[39;00m x\u001b[38;5;241m.\u001b[39mdtype \u001b[38;5;241m!=\u001b[39m dtype:\n\u001b[1;32m   1691\u001b[0m         x \u001b[38;5;241m=\u001b[39m x\u001b[38;5;241m.\u001b[39mastype(dtype)\n",
      "File \u001b[0;32m~/miniconda3/envs/forecast_bias_correction/lib/python3.10/site-packages/dask/base.py:315\u001b[0m, in \u001b[0;36mDaskMethodsMixin.compute\u001b[0;34m(self, **kwargs)\u001b[0m\n\u001b[1;32m    291\u001b[0m \u001b[38;5;28;01mdef\u001b[39;00m \u001b[38;5;21mcompute\u001b[39m(\u001b[38;5;28mself\u001b[39m, \u001b[38;5;241m*\u001b[39m\u001b[38;5;241m*\u001b[39mkwargs):\n\u001b[1;32m    292\u001b[0m     \u001b[38;5;124;03m\"\"\"Compute this dask collection\u001b[39;00m\n\u001b[1;32m    293\u001b[0m \n\u001b[1;32m    294\u001b[0m \u001b[38;5;124;03m    This turns a lazy Dask collection into its in-memory equivalent.\u001b[39;00m\n\u001b[0;32m   (...)\u001b[0m\n\u001b[1;32m    313\u001b[0m \u001b[38;5;124;03m    dask.base.compute\u001b[39;00m\n\u001b[1;32m    314\u001b[0m \u001b[38;5;124;03m    \"\"\"\u001b[39;00m\n\u001b[0;32m--> 315\u001b[0m     (result,) \u001b[38;5;241m=\u001b[39m \u001b[43mcompute\u001b[49m\u001b[43m(\u001b[49m\u001b[38;5;28;43mself\u001b[39;49m\u001b[43m,\u001b[49m\u001b[43m \u001b[49m\u001b[43mtraverse\u001b[49m\u001b[38;5;241;43m=\u001b[39;49m\u001b[38;5;28;43;01mFalse\u001b[39;49;00m\u001b[43m,\u001b[49m\u001b[43m \u001b[49m\u001b[38;5;241;43m*\u001b[39;49m\u001b[38;5;241;43m*\u001b[39;49m\u001b[43mkwargs\u001b[49m\u001b[43m)\u001b[49m\n\u001b[1;32m    316\u001b[0m     \u001b[38;5;28;01mreturn\u001b[39;00m result\n",
      "File \u001b[0;32m~/miniconda3/envs/forecast_bias_correction/lib/python3.10/site-packages/dask/base.py:603\u001b[0m, in \u001b[0;36mcompute\u001b[0;34m(traverse, optimize_graph, scheduler, get, *args, **kwargs)\u001b[0m\n\u001b[1;32m    600\u001b[0m     keys\u001b[38;5;241m.\u001b[39mappend(x\u001b[38;5;241m.\u001b[39m__dask_keys__())\n\u001b[1;32m    601\u001b[0m     postcomputes\u001b[38;5;241m.\u001b[39mappend(x\u001b[38;5;241m.\u001b[39m__dask_postcompute__())\n\u001b[0;32m--> 603\u001b[0m results \u001b[38;5;241m=\u001b[39m \u001b[43mschedule\u001b[49m\u001b[43m(\u001b[49m\u001b[43mdsk\u001b[49m\u001b[43m,\u001b[49m\u001b[43m \u001b[49m\u001b[43mkeys\u001b[49m\u001b[43m,\u001b[49m\u001b[43m \u001b[49m\u001b[38;5;241;43m*\u001b[39;49m\u001b[38;5;241;43m*\u001b[39;49m\u001b[43mkwargs\u001b[49m\u001b[43m)\u001b[49m\n\u001b[1;32m    604\u001b[0m \u001b[38;5;28;01mreturn\u001b[39;00m repack([f(r, \u001b[38;5;241m*\u001b[39ma) \u001b[38;5;28;01mfor\u001b[39;00m r, (f, a) \u001b[38;5;129;01min\u001b[39;00m \u001b[38;5;28mzip\u001b[39m(results, postcomputes)])\n",
      "File \u001b[0;32m~/miniconda3/envs/forecast_bias_correction/lib/python3.10/site-packages/distributed/client.py:3000\u001b[0m, in \u001b[0;36mClient.get\u001b[0;34m(self, dsk, keys, workers, allow_other_workers, resources, sync, asynchronous, direct, retries, priority, fifo_timeout, actors, **kwargs)\u001b[0m\n\u001b[1;32m   2998\u001b[0m         should_rejoin \u001b[38;5;241m=\u001b[39m \u001b[38;5;28;01mFalse\u001b[39;00m\n\u001b[1;32m   2999\u001b[0m \u001b[38;5;28;01mtry\u001b[39;00m:\n\u001b[0;32m-> 3000\u001b[0m     results \u001b[38;5;241m=\u001b[39m \u001b[38;5;28;43mself\u001b[39;49m\u001b[38;5;241;43m.\u001b[39;49m\u001b[43mgather\u001b[49m\u001b[43m(\u001b[49m\u001b[43mpacked\u001b[49m\u001b[43m,\u001b[49m\u001b[43m \u001b[49m\u001b[43masynchronous\u001b[49m\u001b[38;5;241;43m=\u001b[39;49m\u001b[43masynchronous\u001b[49m\u001b[43m,\u001b[49m\u001b[43m \u001b[49m\u001b[43mdirect\u001b[49m\u001b[38;5;241;43m=\u001b[39;49m\u001b[43mdirect\u001b[49m\u001b[43m)\u001b[49m\n\u001b[1;32m   3001\u001b[0m \u001b[38;5;28;01mfinally\u001b[39;00m:\n\u001b[1;32m   3002\u001b[0m     \u001b[38;5;28;01mfor\u001b[39;00m f \u001b[38;5;129;01min\u001b[39;00m futures\u001b[38;5;241m.\u001b[39mvalues():\n",
      "File \u001b[0;32m~/miniconda3/envs/forecast_bias_correction/lib/python3.10/site-packages/distributed/client.py:2174\u001b[0m, in \u001b[0;36mClient.gather\u001b[0;34m(self, futures, errors, direct, asynchronous)\u001b[0m\n\u001b[1;32m   2172\u001b[0m \u001b[38;5;28;01melse\u001b[39;00m:\n\u001b[1;32m   2173\u001b[0m     local_worker \u001b[38;5;241m=\u001b[39m \u001b[38;5;28;01mNone\u001b[39;00m\n\u001b[0;32m-> 2174\u001b[0m \u001b[38;5;28;01mreturn\u001b[39;00m \u001b[38;5;28;43mself\u001b[39;49m\u001b[38;5;241;43m.\u001b[39;49m\u001b[43msync\u001b[49m\u001b[43m(\u001b[49m\n\u001b[1;32m   2175\u001b[0m \u001b[43m    \u001b[49m\u001b[38;5;28;43mself\u001b[39;49m\u001b[38;5;241;43m.\u001b[39;49m\u001b[43m_gather\u001b[49m\u001b[43m,\u001b[49m\n\u001b[1;32m   2176\u001b[0m \u001b[43m    \u001b[49m\u001b[43mfutures\u001b[49m\u001b[43m,\u001b[49m\n\u001b[1;32m   2177\u001b[0m \u001b[43m    \u001b[49m\u001b[43merrors\u001b[49m\u001b[38;5;241;43m=\u001b[39;49m\u001b[43merrors\u001b[49m\u001b[43m,\u001b[49m\n\u001b[1;32m   2178\u001b[0m \u001b[43m    \u001b[49m\u001b[43mdirect\u001b[49m\u001b[38;5;241;43m=\u001b[39;49m\u001b[43mdirect\u001b[49m\u001b[43m,\u001b[49m\n\u001b[1;32m   2179\u001b[0m \u001b[43m    \u001b[49m\u001b[43mlocal_worker\u001b[49m\u001b[38;5;241;43m=\u001b[39;49m\u001b[43mlocal_worker\u001b[49m\u001b[43m,\u001b[49m\n\u001b[1;32m   2180\u001b[0m \u001b[43m    \u001b[49m\u001b[43masynchronous\u001b[49m\u001b[38;5;241;43m=\u001b[39;49m\u001b[43masynchronous\u001b[49m\u001b[43m,\u001b[49m\n\u001b[1;32m   2181\u001b[0m \u001b[43m\u001b[49m\u001b[43m)\u001b[49m\n",
      "File \u001b[0;32m~/miniconda3/envs/forecast_bias_correction/lib/python3.10/site-packages/distributed/utils.py:338\u001b[0m, in \u001b[0;36mSyncMethodMixin.sync\u001b[0;34m(self, func, asynchronous, callback_timeout, *args, **kwargs)\u001b[0m\n\u001b[1;32m    336\u001b[0m     \u001b[38;5;28;01mreturn\u001b[39;00m future\n\u001b[1;32m    337\u001b[0m \u001b[38;5;28;01melse\u001b[39;00m:\n\u001b[0;32m--> 338\u001b[0m     \u001b[38;5;28;01mreturn\u001b[39;00m \u001b[43msync\u001b[49m\u001b[43m(\u001b[49m\n\u001b[1;32m    339\u001b[0m \u001b[43m        \u001b[49m\u001b[38;5;28;43mself\u001b[39;49m\u001b[38;5;241;43m.\u001b[39;49m\u001b[43mloop\u001b[49m\u001b[43m,\u001b[49m\u001b[43m \u001b[49m\u001b[43mfunc\u001b[49m\u001b[43m,\u001b[49m\u001b[43m \u001b[49m\u001b[38;5;241;43m*\u001b[39;49m\u001b[43margs\u001b[49m\u001b[43m,\u001b[49m\u001b[43m \u001b[49m\u001b[43mcallback_timeout\u001b[49m\u001b[38;5;241;43m=\u001b[39;49m\u001b[43mcallback_timeout\u001b[49m\u001b[43m,\u001b[49m\u001b[43m \u001b[49m\u001b[38;5;241;43m*\u001b[39;49m\u001b[38;5;241;43m*\u001b[39;49m\u001b[43mkwargs\u001b[49m\n\u001b[1;32m    340\u001b[0m \u001b[43m    \u001b[49m\u001b[43m)\u001b[49m\n",
      "File \u001b[0;32m~/miniconda3/envs/forecast_bias_correction/lib/python3.10/site-packages/distributed/utils.py:405\u001b[0m, in \u001b[0;36msync\u001b[0;34m(loop, func, callback_timeout, *args, **kwargs)\u001b[0m\n\u001b[1;32m    403\u001b[0m \u001b[38;5;28;01mif\u001b[39;00m error:\n\u001b[1;32m    404\u001b[0m     typ, exc, tb \u001b[38;5;241m=\u001b[39m error\n\u001b[0;32m--> 405\u001b[0m     \u001b[38;5;28;01mraise\u001b[39;00m exc\u001b[38;5;241m.\u001b[39mwith_traceback(tb)\n\u001b[1;32m    406\u001b[0m \u001b[38;5;28;01melse\u001b[39;00m:\n\u001b[1;32m    407\u001b[0m     \u001b[38;5;28;01mreturn\u001b[39;00m result\n",
      "File \u001b[0;32m~/miniconda3/envs/forecast_bias_correction/lib/python3.10/site-packages/distributed/utils.py:378\u001b[0m, in \u001b[0;36msync.<locals>.f\u001b[0;34m()\u001b[0m\n\u001b[1;32m    376\u001b[0m         future \u001b[38;5;241m=\u001b[39m asyncio\u001b[38;5;241m.\u001b[39mwait_for(future, callback_timeout)\n\u001b[1;32m    377\u001b[0m     future \u001b[38;5;241m=\u001b[39m asyncio\u001b[38;5;241m.\u001b[39mensure_future(future)\n\u001b[0;32m--> 378\u001b[0m     result \u001b[38;5;241m=\u001b[39m \u001b[38;5;28;01myield\u001b[39;00m future\n\u001b[1;32m    379\u001b[0m \u001b[38;5;28;01mexcept\u001b[39;00m \u001b[38;5;167;01mException\u001b[39;00m:\n\u001b[1;32m    380\u001b[0m     error \u001b[38;5;241m=\u001b[39m sys\u001b[38;5;241m.\u001b[39mexc_info()\n",
      "File \u001b[0;32m~/miniconda3/envs/forecast_bias_correction/lib/python3.10/site-packages/tornado/gen.py:762\u001b[0m, in \u001b[0;36mRunner.run\u001b[0;34m(self)\u001b[0m\n\u001b[1;32m    759\u001b[0m exc_info \u001b[38;5;241m=\u001b[39m \u001b[38;5;28;01mNone\u001b[39;00m\n\u001b[1;32m    761\u001b[0m \u001b[38;5;28;01mtry\u001b[39;00m:\n\u001b[0;32m--> 762\u001b[0m     value \u001b[38;5;241m=\u001b[39m \u001b[43mfuture\u001b[49m\u001b[38;5;241;43m.\u001b[39;49m\u001b[43mresult\u001b[49m\u001b[43m(\u001b[49m\u001b[43m)\u001b[49m\n\u001b[1;32m    763\u001b[0m \u001b[38;5;28;01mexcept\u001b[39;00m \u001b[38;5;167;01mException\u001b[39;00m:\n\u001b[1;32m    764\u001b[0m     exc_info \u001b[38;5;241m=\u001b[39m sys\u001b[38;5;241m.\u001b[39mexc_info()\n",
      "File \u001b[0;32m~/miniconda3/envs/forecast_bias_correction/lib/python3.10/site-packages/distributed/client.py:2037\u001b[0m, in \u001b[0;36mClient._gather\u001b[0;34m(self, futures, errors, direct, local_worker)\u001b[0m\n\u001b[1;32m   2035\u001b[0m         exc \u001b[38;5;241m=\u001b[39m CancelledError(key)\n\u001b[1;32m   2036\u001b[0m     \u001b[38;5;28;01melse\u001b[39;00m:\n\u001b[0;32m-> 2037\u001b[0m         \u001b[38;5;28;01mraise\u001b[39;00m exception\u001b[38;5;241m.\u001b[39mwith_traceback(traceback)\n\u001b[1;32m   2038\u001b[0m     \u001b[38;5;28;01mraise\u001b[39;00m exc\n\u001b[1;32m   2039\u001b[0m \u001b[38;5;28;01mif\u001b[39;00m errors \u001b[38;5;241m==\u001b[39m \u001b[38;5;124m\"\u001b[39m\u001b[38;5;124mskip\u001b[39m\u001b[38;5;124m\"\u001b[39m:\n",
      "\u001b[0;31mKilledWorker\u001b[0m: (\"('rechunk-split-rechunk-merge-1cf032253a7bdab42cb251f63812df5e', 2, 4, 0)\", <WorkerState 'tcp://172.27.80.131:36125', name: SLURMCluster-1-21, status: closed, memory: 0, processing: 94>)"
     ]
    }
   ],
   "source": [
    "%%time\n",
    "da_temp[timestep, :, :, :] = xr.apply_ufunc(\n",
    "        bc_module,\n",
    "        da_pred_sub,\n",
    "        da_obs_sub,\n",
    "        da_mdl_sub,\n",
    "        kwargs={\n",
    "            \"bc_params\": domain_config[\"bc_params\"],\n",
    "            \"precip\": variable_config['tp'][\"isprecip\"],\n",
    "        },\n",
    "        input_core_dims=[[\"ens\"], [\"time\"], [\"ens_time\"]],\n",
    "        output_core_dims=[[\"ens\"]],\n",
    "        vectorize=True,\n",
    "        dask=\"parallelized\",\n",
    "        #dask='allowed',\n",
    "        output_dtypes=[np.float64])"
   ]
  },
  {
   "cell_type": "code",
   "execution_count": null,
   "id": "410ff9d7-7299-401d-9c63-e8ff15bc3142",
   "metadata": {},
   "outputs": [],
   "source": [
    "tst[:,:,0].plot()"
   ]
  },
  {
   "cell_type": "code",
   "execution_count": null,
   "id": "c19b0be6-7a5a-4399-98c3-c3e291bb6ee8",
   "metadata": {},
   "outputs": [],
   "source": []
  }
 ],
 "metadata": {
  "kernelspec": {
   "display_name": "forecast_bias_correction",
   "language": "python",
   "name": "forecast_bias_correction"
  },
  "language_info": {
   "codemirror_mode": {
    "name": "ipython",
    "version": 3
   },
   "file_extension": ".py",
   "mimetype": "text/x-python",
   "name": "python",
   "nbconvert_exporter": "python",
   "pygments_lexer": "ipython3",
   "version": "3.10.5"
  }
 },
 "nbformat": 4,
 "nbformat_minor": 5
}
